{
  "nbformat": 4,
  "nbformat_minor": 0,
  "metadata": {
    "colab": {
      "name": "latest_and_greatest.ipynb",
      "provenance": [],
      "authorship_tag": "ABX9TyOqzgOQp64bZVFzxMZqhuht",
      "include_colab_link": true
    },
    "kernelspec": {
      "name": "python3",
      "display_name": "Python 3"
    }
  },
  "cells": [
    {
      "cell_type": "markdown",
      "metadata": {
        "id": "view-in-github",
        "colab_type": "text"
      },
      "source": [
        "<a href=\"https://colab.research.google.com/github/acevedosharp/name-generator/blob/master/latest_and_greatest.ipynb\" target=\"_parent\"><img src=\"https://colab.research.google.com/assets/colab-badge.svg\" alt=\"Open In Colab\"/></a>"
      ]
    },
    {
      "cell_type": "markdown",
      "metadata": {
        "id": "Elb0nAx8Dpc0",
        "colab_type": "text"
      },
      "source": [
        "# Character level language modelling"
      ]
    },
    {
      "cell_type": "code",
      "metadata": {
        "id": "ZRr17mtps5nu",
        "colab_type": "code",
        "colab": {}
      },
      "source": [
        "import numpy as np\n",
        "import pandas as pd\n",
        "from tensorflow import keras\n",
        "from keras.layers import LSTM, Dense\n",
        "from keras.callbacks import LambdaCallback"
      ],
      "execution_count": 192,
      "outputs": []
    },
    {
      "cell_type": "markdown",
      "metadata": {
        "id": "pBfKoB4aDu9i",
        "colab_type": "text"
      },
      "source": [
        "## Importando los datos y métodos de apoyo"
      ]
    },
    {
      "cell_type": "code",
      "metadata": {
        "id": "KWDT8FeBtfo4",
        "colab_type": "code",
        "colab": {}
      },
      "source": [
        "dino_df = pd.read_csv('https://raw.githubusercontent.com/junosuarez/dinosaurs/master/dinosaurs.csv', names=['dino_name'])\n",
        "cities_df = pd.read_csv('https://raw.githubusercontent.com/datasets/world-cities/master/data/world-cities.csv')"
      ],
      "execution_count": 193,
      "outputs": []
    },
    {
      "cell_type": "code",
      "metadata": {
        "id": "MS4coHTcE5GT",
        "colab_type": "code",
        "colab": {}
      },
      "source": [
        "def get_names_and_chars(df, name_col):\n",
        "  names = [*df[name_col]]\n",
        "  names = list(map(lambda s: s + '!', names))\n",
        "  chars = set(char for name in names for char in name)\n",
        "  chars = list(chars) # There are much better ways of doing this!\n",
        "  print(f\"There are {len(names)} names and {len(chars)} unique characters.\")\n",
        "  \n",
        "  return names, chars"
      ],
      "execution_count": 194,
      "outputs": []
    },
    {
      "cell_type": "markdown",
      "metadata": {
        "id": "bLzTAi3pDo17",
        "colab_type": "text"
      },
      "source": [
        "## Nombres de dinosaurios"
      ]
    },
    {
      "cell_type": "code",
      "metadata": {
        "id": "JyljWL2BDmTN",
        "colab_type": "code",
        "colab": {
          "base_uri": "https://localhost:8080/",
          "height": 0
        },
        "outputId": "11972a7b-0faf-4123-cf56-71ce86996228"
      },
      "source": [
        "names, chars = get_names_and_chars(dino_df, 'dino_name')"
      ],
      "execution_count": 195,
      "outputs": [
        {
          "output_type": "stream",
          "text": [
            "There are 1532 names and 28 unique characters.\n"
          ],
          "name": "stdout"
        }
      ]
    },
    {
      "cell_type": "markdown",
      "metadata": {
        "id": "f1ystnLyEHyG",
        "colab_type": "text"
      },
      "source": [
        "## Nombres de ciudades"
      ]
    },
    {
      "cell_type": "markdown",
      "metadata": {
        "id": "yaazCS6cETEC",
        "colab_type": "text"
      },
      "source": [
        "#### Limpiamos un poco los nombres (se puede hacer más)."
      ]
    },
    {
      "cell_type": "code",
      "metadata": {
        "id": "-KJ4pkxuEPC0",
        "colab_type": "code",
        "colab": {}
      },
      "source": [
        "cities_df = cities_df.apply(lambda x: x.astype(str).str.lower())\n",
        "my_dict = {\n",
        "    'ä': 'ae',\n",
        "    'ö': 'oe',\n",
        "    'ü': 'ue',\n",
        "    'ß': 'ss'\n",
        "}\n",
        "clean_cities_df = cities_df[cities_df.country == 'germany'].replace(my_dict.keys(), my_dict.values(), regex=True)"
      ],
      "execution_count": 196,
      "outputs": []
    },
    {
      "cell_type": "code",
      "metadata": {
        "id": "7JvVcnV9EK6o",
        "colab_type": "code",
        "colab": {
          "base_uri": "https://localhost:8080/",
          "height": 0
        },
        "outputId": "6bd8d8ff-00b5-435d-bbab-eb3a2d2403d9"
      },
      "source": [
        "names, chars = get_names_and_chars(clean_cities_df, 'name')"
      ],
      "execution_count": 197,
      "outputs": [
        {
          "output_type": "stream",
          "text": [
            "There are 1055 names and 33 unique characters.\n"
          ],
          "name": "stdout"
        }
      ]
    },
    {
      "cell_type": "markdown",
      "metadata": {
        "id": "ZAm80KcCFFtM",
        "colab_type": "text"
      },
      "source": [
        "## Preparación extra"
      ]
    },
    {
      "cell_type": "code",
      "metadata": {
        "id": "tgo7o9xWusEH",
        "colab_type": "code",
        "colab": {}
      },
      "source": [
        "char_to_index = { char:idx for idx, char in enumerate(chars) }\n",
        "index_to_char = { idx:char for idx, char in enumerate(chars) }"
      ],
      "execution_count": 198,
      "outputs": []
    },
    {
      "cell_type": "code",
      "metadata": {
        "id": "4kcOG6uwziSl",
        "colab_type": "code",
        "colab": {}
      },
      "source": [
        "# Nombre con mayor cantidad de caracteres\n",
        "max_char = len(max(names, key=len))\n",
        "\n",
        "# Cantidad de nombres\n",
        "m = len(names)\n",
        "\n",
        "# Cantidad de caracteres en nuestro diccionario\n",
        "uq_chars = len(char_to_index)"
      ],
      "execution_count": 199,
      "outputs": []
    },
    {
      "cell_type": "markdown",
      "metadata": {
        "id": "n4pkhlHjF4NR",
        "colab_type": "text"
      },
      "source": [
        "#### Ahora convertimos nuestra información en algo que una red pueda entender"
      ]
    },
    {
      "cell_type": "code",
      "metadata": {
        "id": "lJsJsMO-0ZAq",
        "colab_type": "code",
        "colab": {}
      },
      "source": [
        "X = np.zeros((m, max_char, uq_chars))\n",
        "Y = np.zeros((m, max_char, uq_chars))"
      ],
      "execution_count": 200,
      "outputs": []
    },
    {
      "cell_type": "markdown",
      "metadata": {
        "id": "ib9NV7qTG4xF",
        "colab_type": "text"
      },
      "source": [
        "#### Convertimos cada carácter en un vector one-hot (one-hot encoding)"
      ]
    },
    {
      "cell_type": "code",
      "metadata": {
        "id": "jPh8tm2e1Ikk",
        "colab_type": "code",
        "colab": {}
      },
      "source": [
        "for i in range(m):\n",
        "  name = list(names[i])\n",
        "  for j in range(len(name)):\n",
        "    X[i, j, char_to_index[name[j]]] = 1\n",
        "    if j < len(name)-1:\n",
        "      Y[i, j, char_to_index[name[j+1]]] = 1"
      ],
      "execution_count": 201,
      "outputs": []
    },
    {
      "cell_type": "markdown",
      "metadata": {
        "id": "CVvEY2N0HYSf",
        "colab_type": "text"
      },
      "source": [
        "## El modelo LSTM "
      ]
    },
    {
      "cell_type": "code",
      "metadata": {
        "id": "H1ruBN8b4zXE",
        "colab_type": "code",
        "colab": {}
      },
      "source": [
        "model = keras.Sequential(\n",
        "    [\n",
        "     LSTM(128, input_shape=(max_char, uq_chars), return_sequences=True),\n",
        "     Dense(uq_chars, activation='softmax')\n",
        "    ]\n",
        ")\n",
        "\n",
        "model.compile(loss='categorical_crossentropy', optimizer='adam')"
      ],
      "execution_count": 211,
      "outputs": []
    },
    {
      "cell_type": "markdown",
      "metadata": {
        "id": "Je_qru_sHy1Z",
        "colab_type": "text"
      },
      "source": [
        "#### Creamos un método que recibe el modelo y genera secuencias "
      ]
    },
    {
      "cell_type": "code",
      "metadata": {
        "id": "gjttU4p053nX",
        "colab_type": "code",
        "colab": {}
      },
      "source": [
        "def make_name(model):\n",
        "    name = []\n",
        "    x = np.zeros((1, max_char, uq_chars))\n",
        "    end = False\n",
        "    i = 0\n",
        "    \n",
        "    while end==False:\n",
        "      probs = list(model.predict(x)[0,i])\n",
        "      probs = probs / np.sum(probs) # Vector de probabilidades para cada carácter en nuestro vocabulario\n",
        "      index = np.random.choice(range(len(chars)), p=probs)\n",
        "      if i == max_char-2:\n",
        "        character = '!'\n",
        "        end = True\n",
        "      else:\n",
        "        character = index_to_char[index]\n",
        "        name.append(character)\n",
        "        x[0, i+1, index] = 1\n",
        "        i += 1\n",
        "        if character == '!':\n",
        "            end = True\n",
        "    \n",
        "    print(''.join(name))"
      ],
      "execution_count": 203,
      "outputs": []
    },
    {
      "cell_type": "code",
      "metadata": {
        "id": "OBL7k6sM6CUb",
        "colab_type": "code",
        "colab": {}
      },
      "source": [
        "def generate_name_loop(epoch, _):\n",
        "    if epoch % 25 == 0:\n",
        "        \n",
        "        print(f'Names generated in epoch: {epoch}')\n",
        "\n",
        "        for i in range(5):\n",
        "            make_name(model)\n",
        "        \n",
        "        print()"
      ],
      "execution_count": 204,
      "outputs": []
    },
    {
      "cell_type": "code",
      "metadata": {
        "id": "G4TsiskQ6HNr",
        "colab_type": "code",
        "colab": {}
      },
      "source": [
        "name_generator = LambdaCallback(on_epoch_end = generate_name_loop)"
      ],
      "execution_count": 205,
      "outputs": []
    },
    {
      "cell_type": "code",
      "metadata": {
        "id": "wZblqly_6IPa",
        "colab_type": "code",
        "colab": {}
      },
      "source": [
        "model.fit(X, Y, batch_size=32, epochs=325, callbacks=[name_generator], verbose=0)"
      ],
      "execution_count": null,
      "outputs": []
    },
    {
      "cell_type": "code",
      "metadata": {
        "id": "GW9pnB7aOBjv",
        "colab_type": "code",
        "colab": {}
      },
      "source": [
        "for i in range(20):\n",
        "  make_name(model)"
      ],
      "execution_count": null,
      "outputs": []
    }
  ]
}